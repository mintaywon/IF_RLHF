{
 "cells": [
  {
   "cell_type": "markdown",
   "metadata": {},
   "source": [
    "# Measure Length Bias\n",
    "The script in the provided Jupyter notebook measures length bias in a dataset by evaluating model performance using influence functions. It generates AUC (Area Under the Curve) curves to visualize the model's performance across these shorter, longer, and total datasets and compares the results. Additionally, the script includes ROC curves plotted alongside the baseline models for comprehensive performance analysis."
   ]
  },
  {
   "cell_type": "markdown",
   "metadata": {},
   "source": [
    "## Load Data"
   ]
  },
  {
   "cell_type": "code",
   "execution_count": null,
   "metadata": {},
   "outputs": [],
   "source": [
    "import torch\n",
    "import numpy as np\n",
    "import datasets\n",
    "import utils.influence as utils\n",
    "D = 65536 # 2^16, size of rapid grad\n",
    "\n",
    "# Set device\n",
    "device = torch.device(\"cuda:0\" if torch.cuda.is_available() else \"cpu\")\n",
    "\n",
    "# Load data\n",
    "_WORK_PATH = os.environ['IF_RLHF_HOME']\n",
    "model_path = _WORK_PATH + \"/logs/logs/Llama-3-8B_length\"\n",
    "train_data_path =  _WORK_PATH + \"/dataset/length_dataset/train\"\n",
    "val_data_path = _WORK_PATH + \"/dataset/length_dataset/test\"\n",
    "\n",
    "rapid_grad_train = torch.load(f\"{model_path}/rapid_grad_train.pt\")[D]\n",
    "rapid_grad_val = torch.load(f\"{model_path}/rapid_grad_val.pt\")[D]\n",
    "flipped_indices = np.load(f\"{train_data_path}/flipped_indices.npy\")\n",
    "val_data = datasets.load_from_disk(val_data_path)"
   ]
  },
  {
   "cell_type": "markdown",
   "metadata": {},
   "source": [
    "## Calculate Influence"
   ]
  },
  {
   "cell_type": "code",
   "execution_count": null,
   "metadata": {},
   "outputs": [],
   "source": [
    "# get the group indices for eval data, this is used to calculate influence\n",
    "shorter_indices, longer_indices = utils.get_length_indices(val_data)\n",
    "rapid_datainf_shorter = utils.rapid_datainf(rapid_grad_train, rapid_grad_val, shorter_indices)\n",
    "rapid_datainf_longer = utils.rapid_datainf(rapid_grad_train, rapid_grad_val, longer_indices)\n",
    "rapid_datainf_total = utils.rapid_datainf(rapid_grad_train, rapid_grad_val, np.arange(len(val_data)))"
   ]
  },
  {
   "cell_type": "markdown",
   "metadata": {},
   "source": [
    "## Plot ROC Curve"
   ]
  },
  {
   "cell_type": "code",
   "execution_count": 4,
   "metadata": {},
   "outputs": [],
   "source": [
    "from matplotlib import pyplot as plt\n",
    "from utils.influence import get_roc_auc\n",
    "\n",
    "# Assign colors as requested\n",
    "INFLUENCE_COLOR = '#359afa'"
   ]
  },
  {
   "cell_type": "code",
   "execution_count": 5,
   "metadata": {},
   "outputs": [],
   "source": [
    "def plot_roc_curve_for_length(influence, influence2, influence3, flipped_indices, title, fpr_llm = [], tpr_llm = [], llm_label = []):\n",
    "    \"\"\"\n",
    "    Plots the ROC curve for given data and flipped indices and calculates the AUC value.\n",
    "\n",
    "    Parameters:\n",
    "    influence (np.array): Array of data points from the RapidInf algorithm.\n",
    "    flipped_indices (list): List of indices that were flipped.\n",
    "\n",
    "    Returns:\n",
    "    float: AUC value of the ROC curve.\n",
    "    \"\"\"\n",
    "    plt.rcParams.update({\n",
    "        'font.family': 'Times New Roman',\n",
    "        'mathtext.fontset': 'custom',\n",
    "        'mathtext.it': 'Times New Roman:italic',\n",
    "        'mathtext.rm': 'Times New Roman',\n",
    "    })\n",
    "\n",
    "    # Get ROC values\n",
    "    roc_auc, fpr, tpr = get_roc_auc(influence, flipped_indices)\n",
    "    roc_auc_maha, fpr_maha, tpr_maha = get_roc_auc(influence2, flipped_indices)\n",
    "    roc_self_confidence, fpr_self_confidence, tpr_self_confidence = get_roc_auc(influence3, flipped_indices)\n",
    "    \n",
    "    # Create a figure\n",
    "    fig, ax = plt.subplots(figsize=(6.5, 6))\n",
    "    \n",
    "    ax.set_xlim([0.0, 1.0])\n",
    "    ax.set_ylim([0.0, 1.05])\n",
    "    \n",
    "    # Scatter plot for LLM results\n",
    "    # ax.scatter(fpr_llm[0], tpr_llm[0], lw=3, label=llm_labels[0], color=LLM_COLOR1, marker='x', s=200, alpha=0.9)\n",
    "    # ax.scatter(fpr_llm[2], tpr_llm[2], lw=3, label=llm_labels[1], color=LLM_COLOR2, marker='x', s=200, alpha=0.9)\n",
    "    \n",
    "    # Plot ROC curves using new colors\n",
    "    ax.plot(fpr, tpr, color=INFLUENCE_COLOR, lw=3, label=r'$\\mathit{Concise}$, (AUC=%0.3f)' % roc_auc)  # Navy for Influence\n",
    "    ax.plot(fpr_maha, tpr_maha, color=BASELINE_COLOR1, lw=3, linestyle='-.', label=r'$\\mathit{Verbose}$, (AUC=%0.3f)' % roc_auc_maha)  # Magenta for Mahalanobis\n",
    "    ax.plot(fpr_self_confidence, tpr_self_confidence, color=BASELINE_COLOR2, lw=3, linestyle='--', label=r'Full, (AUC=%0.3f)' % roc_self_confidence)  # Green for Conf.\n",
    "    \n",
    "    # Baseline line (diagonal)\n",
    "    ax.plot([0, 1], [0, 1], color='gray', lw=2, linestyle='--', alpha=0.6)  # Dotted line representing random classifier\n",
    "    \n",
    "    # Customize labels and title with Times New Roman font\n",
    "    ax.set_xlabel('False Positive Rate', fontsize=22)\n",
    "    ax.set_ylabel('True Positive Rate', fontsize=22)\n",
    "    ax.tick_params(axis='both', which='major', labelsize=16, length=0)\n",
    "    ax.legend(loc=\"lower right\", fontsize=16, title = \"Validation Set\", title_fontsize = 16)\n",
    "    ax.set_title(title, fontsize=22)\n",
    "    ax.grid(True, which='major', linestyle='--', color='gray', alpha=0.3)\n",
    "    ax.spines['top'].set_visible(False)\n",
    "    ax.spines['right'].set_visible(False)\n",
    "    ax.spines['left'].set_visible(False)\n",
    "\n",
    "    plt.show()"
   ]
  },
  {
   "cell_type": "code",
   "execution_count": null,
   "metadata": {},
   "outputs": [],
   "source": [
    "plot_roc_curve_for_length(rapid_datainf_shorter, rapid_datainf_longer, rapid_datainf_total, flipped_indices, \"Length Bias\", fpr_llm=fpr_llm, tpr_llm=tpr_llm, llm_label=llm_labels)"
   ]
  }
 ],
 "metadata": {
  "kernelspec": {
   "display_name": "base",
   "language": "python",
   "name": "python3"
  },
  "language_info": {
   "codemirror_mode": {
    "name": "ipython",
    "version": 3
   },
   "file_extension": ".py",
   "mimetype": "text/x-python",
   "name": "python",
   "nbconvert_exporter": "python",
   "pygments_lexer": "ipython3",
   "version": "3.10.15"
  }
 },
 "nbformat": 4,
 "nbformat_minor": 2
}

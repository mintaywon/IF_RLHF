{
 "cells": [
  {
   "cell_type": "markdown",
   "metadata": {},
   "source": [
    "# Measure Sycophancy Bias\n",
    "The script in the provided Jupyter notebook measures sycophancy bias in a dataset by evaluating model performance using influence functions. It generates AUC (Area Under the Curve) curves to visualize the model's performance across these less sycophantic, more sycophantic, full datasets and compares the results. Additionally, the script includes ROC curves plotted alongside the baseline models for comprehensive performance analysis."
   ]
  },
  {
   "cell_type": "markdown",
   "metadata": {},
   "source": [
    "## Load Data"
   ]
  },
  {
   "cell_type": "code",
   "execution_count": null,
   "metadata": {},
   "outputs": [],
   "source": [
    "import torch\n",
    "import numpy as np\n",
    "import datasets\n",
    "import utils.influence as utils\n",
    "D = 65536 # 2^16, size of rapid grad\n",
    "\n",
    "# Set device\n",
    "device = torch.device(\"cuda:0\" if torch.cuda.is_available() else \"cpu\")\n",
    "\n",
    "# Load data\n",
    "_WORK_PATH = os.environ['IF_RLHF_HOME']\n",
    "model_path = _WORK_PATH + \"/logs/logs/Llama-3-8B_sycophancy\"\n",
    "train_data_path =  _WORK_PATH + \"/dataset/sycophancy_dataset/train\"\n",
    "val_data_path = _WORK_PATH + \"/dataset/sycophancy_dataset/test\"\n",
    "\n",
    "rapid_grad_train = torch.load(f\"{model_path}/rapid_grad_train.pt\")[D]\n",
    "rapid_grad_val = torch.load(f\"{model_path}/rapid_grad_val.pt\")[D]\n",
    "flipped_indices = np.load(f\"{train_data_path}/flipped_indices.npy\")\n",
    "val_data = datasets.load_from_disk(val_data_path)\n",
    "train_data = datasets.load_from_disk(train_data_path)"
   ]
  },
  {
   "cell_type": "code",
   "execution_count": null,
   "metadata": {},
   "outputs": [],
   "source": [
    "from tqdm import tqdm\n",
    "\n",
    "less_sycophantic, more_sycophantic,equal_sycophantic = [], [], []\n",
    "for i, example in tqdm(enumerate(val_data)):\n",
    "    if example['chosen_score'] > example['rejected_score']:\n",
    "        more_sycophantic.append(i)\n",
    "    if example['rejected_score'] > example['chosen_score']:\n",
    "        less_sycophantic.append(i)\n",
    "    if example['rejected_score'] == example['chosen_score']:\n",
    "        equal_sycophantic.append(i)"
   ]
  },
  {
   "cell_type": "markdown",
   "metadata": {},
   "source": [
    "## Calculate Influence"
   ]
  },
  {
   "cell_type": "code",
   "execution_count": 4,
   "metadata": {},
   "outputs": [],
   "source": [
    "rapid_datainf_less = utils.rapid_datainf(rapid_grad_train, rapid_grad_val, less_sycophantic)\n",
    "rapid_datainf_more = utils.rapid_datainf(rapid_grad_train, rapid_grad_val, more_sycophantic)\n",
    "rapid_datainf_equal = utils.rapid_datainf(rapid_grad_train, rapid_grad_val, equal_sycophantic)\n",
    "rapid_datainf_total = utils.rapid_datainf(rapid_grad_train, rapid_grad_val, np.arange(len(val_data)))"
   ]
  },
  {
   "cell_type": "markdown",
   "metadata": {},
   "source": [
    "## Plot ROC Curve"
   ]
  },
  {
   "cell_type": "code",
   "execution_count": 5,
   "metadata": {},
   "outputs": [],
   "source": [
    "from matplotlib import pyplot as plt\n",
    "from utils.influence import get_roc_auc\n",
    "\n",
    "# Assign colors as requested\n",
    "INFLUENCE_COLOR = '#359afa'"
   ]
  },
  {
   "cell_type": "code",
   "execution_count": null,
   "metadata": {},
   "outputs": [],
   "source": [
    "def plot_roc_curve_for_sycophancy(influence, mahalanobis, entropy, flipped_indices, title, fpr_llm=[], tpr_llm=[], llm_label=[]):\n",
    "    \"\"\"\n",
    "    Plots the ROC curve for given data and flipped indices and calculates the AUC value.\n",
    "\n",
    "    Parameters:\n",
    "    influence (np.array): Array of data points from the RapidInf algorithm.\n",
    "    flipped_indices (list): List of indices that were flipped.\n",
    "\n",
    "    Returns:\n",
    "    float: AUC value of the ROC curve.\n",
    "    \"\"\"\n",
    "    plt.rcParams.update({\n",
    "        'font.family': 'Times New Roman',\n",
    "        'mathtext.fontset': 'custom',\n",
    "        'mathtext.it': 'Times New Roman:italic',\n",
    "        'mathtext.rm': 'Times New Roman',\n",
    "    })\n",
    "\n",
    "    # Calculate ROC and AUC values for each method\n",
    "    roc_auc, fpr, tpr = get_roc_auc(influence, flipped_indices)\n",
    "    roc_auc_mahalanobis, fpr_mahalanobis, tpr_mahalanobis = get_roc_auc(mahalanobis, flipped_indices)\n",
    "    # roc_auc_self_confidence, fpr_self_confidence, tpr_self_confidence = get_roc_auc(self_confidence, flipped_indices)\n",
    "    roc_auc_entropy, fpr_entropy, tpr_entropy = get_roc_auc(entropy, flipped_indices)\n",
    "    \n",
    "    # Create a figure with the same size\n",
    "    fig, ax = plt.subplots(figsize=(6.5, 6))\n",
    "\n",
    "\n",
    "    # Plot ROC curves with same colors and line widths as in the first function\n",
    "    ax.plot(fpr, tpr, color=INFLUENCE_COLOR, lw=3, label=r'$\\mathit{Less \\; Syco.}$ (AUC=%0.3f)' % roc_auc)  # Navy for Influence\n",
    "    ax.plot(fpr_mahalanobis, tpr_mahalanobis, color=BASELINE_COLOR1, lw=3, linestyle='-.', label=r'$\\mathit{More\\; Syco.}$ (AUC=%0.3f)' % roc_auc_mahalanobis)  # Magenta for Mahalanobis\n",
    "    # ax.plot(fpr_self_confidence, tpr_self_confidence, color=LLM_COLOR2, lw=3, linestyle='-.', label=r'$\\mathit{Equal\\; Syco.}$ (AUC=%0.3f)' % roc_auc_self_confidence)  # Green for Self-Confidence\n",
    "    ax.plot(fpr_entropy, tpr_entropy, color=BASELINE_COLOR2, lw=3, linestyle='--', label=r'Full, (AUC=%0.3f)' % roc_auc_entropy)  # Yellow for Entropy\n",
    "    \n",
    "    # Baseline diagonal line\n",
    "    ax.plot([0, 1], [0, 1], color='gray', lw=2, linestyle='--', alpha=0.6)  # Random classifier\n",
    "    \n",
    "    # Set axis limits\n",
    "    ax.set_xlim([0.0, 1.0])\n",
    "    ax.set_ylim([0.0, 1.05])\n",
    "    \n",
    "    # Set labels, legend, and title with adjusted font sizes\n",
    "    ax.set_xlabel('False Positive Rate', fontsize=22)\n",
    "    ax.set_ylabel('True Positive Rate', fontsize=22)\n",
    "    ax.tick_params(axis='both', which='major', labelsize=16, sycophancy=0)\n",
    "    ax.legend(loc=\"lower right\", fontsize=16, title = \"Validation Set\", title_fontsize = 16)\n",
    "    ax.set_title(title, fontsize=22)\n",
    "\n",
    "    # Add grid lines and remove spines for a clean look\n",
    "    ax.grid(True, which='major', linestyle='--', color='gray', alpha=0.3)\n",
    "    ax.spines['top'].set_visible(False)\n",
    "    ax.spines['right'].set_visible(False)\n",
    "    ax.spines['left'].set_visible(False)\n",
    "\n",
    "    # Display the plot\n",
    "    plt.show()\n",
    "    return roc_auc\n",
    "\n",
    "# Example call with updated parameters\n",
    "plot_roc_curve_for_sycophancy(rapid_datainf_less, rapid_datainf_more, rapid_datainf_total, flipped_indices, \"Sycophancy Bias\", fpr_llm=fpr_llm, tpr_llm=tpr_llm, llm_label=llm_labels)\n"
   ]
  }
 ],
 "metadata": {
  "kernelspec": {
   "display_name": "base",
   "language": "python",
   "name": "python3"
  },
  "language_info": {
   "codemirror_mode": {
    "name": "ipython",
    "version": 3
   },
   "file_extension": ".py",
   "mimetype": "text/x-python",
   "name": "python",
   "nbconvert_exporter": "python",
   "pygments_lexer": "ipython3",
   "version": "3.10.15"
  }
 },
 "nbformat": 4,
 "nbformat_minor": 2
}
